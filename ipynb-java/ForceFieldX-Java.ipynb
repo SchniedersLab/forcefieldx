{
 "cells": [
  {
   "metadata": {},
   "cell_type": "code",
   "source": [
    "// Initialize the FFX environment.\n",
    "\n",
    "// Add the FFX jar files to classpath.\n",
    "%%jars\n",
    "../lib\n",
    "\n",
    "// Initialize commands defined in a JShell start-up script. \n",
    "%load ../bin/startup.jshell"
   ],
   "outputs": [],
   "execution_count": null
  },
  {
   "metadata": {},
   "cell_type": "code",
   "source": [
    "// Run an example FFX command.\n",
    "import ffx.potential.groovy.Energy;\n",
    "\n",
    "// Run a Force Field X Script\n",
    "var energy = new Energy(\"../examples/dhfr.xyz\").run();\n",
    "System.out.println(energy.getForceFieldEnergy());"
   ],
   "outputs": [],
   "execution_count": null
  }
 ],
 "metadata": {
  "accelerator": "GPU",
  "colab": {
   "authorship_tag": "ABX9TyPAJdhPTSc53Z0lSjISlRNy",
   "collapsed_sections": [],
   "name": "ForceFieldX.ipynb",
   "private_outputs": true,
   "provenance": [
    {
     "file_id": "1qtAt-Q0U1GliJnVvTJ-fFgr4NsoIo_HZ",
     "timestamp": 1587655148852
    }
   ]
  },
  "kernelspec": {
   "display_name": "Java",
   "language": "java",
   "name": "jbang-rapaio"
  },
  "language_info": {
   "codemirror_mode": "java",
   "file_extension": ".jshell",
   "mimetype": "text/x-java-source",
   "name": "java",
   "nbconvert_exporter": "script",
   "pygments_lexer": "java",
   "version": "21.0.2+13-58"
  }
 },
 "nbformat": 4,
 "nbformat_minor": 4
}
