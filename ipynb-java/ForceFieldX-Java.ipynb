{
 "cells": [
  {
   "cell_type": "code",
   "execution_count": null,
   "metadata": {
    "colab": {},
    "colab_type": "code",
    "id": "xMwudbNPfL_a"
   },
   "outputs": [],
   "source": [
    "// Choose a PDB file from the Protein Databank.\n",
    "var pdbID = \"2jof.pdb\";\n",
    "downloadPDB(pdbID);"
   ]
  },
  {
   "cell_type": "code",
   "execution_count": null,
   "metadata": {},
   "outputs": [],
   "source": [
    "// Run a Force Field X Script\n",
    "String[] args = {\"Energy\", pdbID};\n",
    "ffxScript(args);"
   ]
  }
 ],
 "metadata": {
  "accelerator": "GPU",
  "colab": {
   "authorship_tag": "ABX9TyPAJdhPTSc53Z0lSjISlRNy",
   "collapsed_sections": [],
   "name": "ForceFieldX.ipynb",
   "private_outputs": true,
   "provenance": [
    {
     "file_id": "1qtAt-Q0U1GliJnVvTJ-fFgr4NsoIo_HZ",
     "timestamp": 1587655148852
    }
   ]
  },
  "kernelspec": {
   "display_name": "Java",
   "language": "java",
   "name": "java"
  },
  "language_info": {
   "codemirror_mode": "java",
   "file_extension": ".jshell",
   "mimetype": "text/x-java-source",
   "name": "Java",
   "pygments_lexer": "java",
   "version": "11.0.6+8-LTS"
  }
 },
 "nbformat": 4,
 "nbformat_minor": 4
}
