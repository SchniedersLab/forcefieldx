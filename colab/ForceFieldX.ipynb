{
 "nbformat": 4,
 "nbformat_minor": 0,
 "metadata": {
  "colab": {
   "name": "ForceFieldX.ipynb",
   "provenance": [],
   "private_outputs": true,
   "collapsed_sections": [
    "UFxZAexbJkoh"
   ]
  },
  "kernelspec": {
   "name": "python3",
   "display_name": "Python 3"
  },
  "accelerator": "GPU"
 },
 "cells": [
  {
   "cell_type": "markdown",
   "metadata": {
    "id": "_We03ypvJEX0"
   },
   "source": [
    "## GPU-Accelerated Protein Repacking in Force Field X"
   ]
  },
  {
   "cell_type": "markdown",
   "metadata": {
    "id": "UFxZAexbJkoh"
   },
   "source": [
    "### 1) Install the GraalVM and Force Field X."
   ]
  },
  {
   "cell_type": "code",
   "metadata": {
    "id": "vkV_FZQLfHol"
   },
   "source": [
    "# Import os to set environment variables.\n",
    "import os\n",
    "\n",
    "# Install GraalVM JDK version 21.\n",
    "!wget https://download.oracle.com/graalvm/21/archive/graalvm-jdk-21_linux-x64_bin.tar.gz\n",
    "!tar xzf graalvm-jdk-21_linux-x64_bin.tar.gz\n",
    "!rm graalvm-jdk-21_linux-x64_bin.tar.gz\n",
    "os.environ[\"JAVA_HOME\"] = \"graalvm-jdk-21+35.1\"\n",
    "os.environ[\"PATH\"] = \"graalvm-jdk-21+35.1/bin:\" + os.environ[\"PATH\"]\n",
    "!java -version\n",
    "\n",
    "# Install Force Field X\n",
    "!wget https://ffx.biochem.uiowa.edu/ffx-1.0.0-bin.tar.gz\n",
    "!tar xzf ffx-1.0.0-bin.tar.gz\n",
    "!rm ffx-1.0.0-bin.tar.gz\n",
    "os.environ[\"PATH\"] = \"ffx-1.0.0/bin:\" + os.environ[\"PATH\"]\n",
    "\n",
    "# Check the GPU/CUDA combination -- tested with Tesla P100, Driver 418.67 and CUDA 10.1.\n",
    "!ln -sf /opt/bin/nvidia-smi /usr/bin/nvidia-smi\n",
    "!nvidia-smi"
   ],
   "execution_count": null,
   "outputs": []
  },
  {
   "cell_type": "markdown",
   "metadata": {
    "id": "m0Qkg3WIJqgt"
   },
   "source": [
    "### 2) GPU-Accelerated Side-Chain Optimization Using the AMOEBA force field."
   ]
  },
  {
   "cell_type": "code",
   "metadata": {
    "id": "xMwudbNPfL_a"
   },
   "source": [
    "# Please cite:\n",
    "# Tollefson, M. R.;  Litman, J. M.;  Qi, G.;  O’Connell, C. E.;  Wipfler, M. J.;  Marini, R. J.;\n",
    "# Bernabe, H. V.;  Tollefson, W. T. A.;  Braun, T. A.;  Casavant, T. L.;  Smith, R. J. H.; Schnieders, M. J.,\n",
    "# Structural insights into hearing loss genetics from polarizable protein repacking. Biophys. J. 2019, 117 (3), 602-612.\n",
    "#\n",
    "# Choose a PDB file from the Protein Databank.\n",
    "os.environ[\"PDB\"] = \"2JOF.pdb\"\n",
    "!wget https://files.rcsb.org/download/${PDB}\n",
    "\n",
    "# Run the many-body side-chain optimization using the polarizable AMOEBA force field.\n",
    "!ffxc ManyBody ${PDB} -Dplatform=omm\n",
    "\n",
    "# Locally optimize the result.\n",
    "!ffxc MinimizeOpenMM -e 0.1 ${PDB}_2"
   ],
   "execution_count": null,
   "outputs": []
  },
  {
   "cell_type": "markdown",
   "metadata": {
    "id": "lXvPw1quJ3W2"
   },
   "source": [
    "### 3) Download the result."
   ]
  },
  {
   "cell_type": "code",
   "metadata": {
    "id": "JKWDA9fJ-Vny"
   },
   "source": [
    "from google.colab import files\n",
    "files.download(os.environ[\"PDB\"] + \"_3\")"
   ],
   "execution_count": null,
   "outputs": []
  }
 ]
}
