{
 "cells": [
  {
   "cell_type": "code",
   "execution_count": null,
   "metadata": {},
   "outputs": [],
   "source": [
    "// Load the FFX libraries.\n",
    "%use @file[ffx.json]\n",
    "\n",
    "import org.apache.commons.io.IOUtils;\n",
    "import java.nio.charset.Charset\n",
    "\n",
    "val pdb = \"2jof.pdb\"\n",
    "try {\n",
    "    System.out.print(\" Downloading \" + pdb + \" ...\")\n",
    "    val rcsb = \"https://files.rcsb.org/download/\"\n",
    "    val pb = ProcessBuilder(\"wget\", rcsb + pdb)\n",
    "    val proc = pb.start()\n",
    "    proc.waitFor()\n",
    "    System.out.println(\" Done.\")\n",
    "    val charset = Charset.defaultCharset()\n",
    "    System.out.println(IOUtils.toString(proc.getInputStream(), charset))\n",
    "    System.out.println(IOUtils.toString(proc.getErrorStream(), charset))\n",
    "} catch (e: Exception) {\n",
    "    System.out.println(\" Exception downloading PDB file: \" + e.toString())\n",
    "}"
   ]
  },
  {
   "cell_type": "code",
   "execution_count": null,
   "metadata": {},
   "outputs": [],
   "source": [
    "// Run the Force Field X Energy script.\n",
    "Main.ffxScript(arrayOf(\"Energy\",pdb))"
   ]
  }
 ],
 "metadata": {
  "kernelspec": {
   "display_name": "Kotlin",
   "language": "kotlin",
   "name": "kotlin"
  },
  "language_info": {
   "codemirror_mode": "text/x-kotlin",
   "file_extension": ".kt",
   "mimetype": "text/x-kotlin",
   "name": "kotlin",
   "pygments_lexer": "kotlin",
   "version": "1.4.0-dev-7568"
  },
  "ktnbPluginMetadata": {
   "projectDependencies": [
    "ffx-algorithms",
    "ffx-crystal",
    "ffx-experiment",
    "ffx-numerics",
    "ffx-pj",
    "ffx-potential",
    "ffx-ui",
    "ffx-utilities",
    "forcefieldx",
    "jopenmm"
   ]
  }
 },
 "nbformat": 4,
 "nbformat_minor": 4
}
