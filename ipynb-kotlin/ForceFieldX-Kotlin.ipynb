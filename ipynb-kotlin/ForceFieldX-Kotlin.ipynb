{
 "cells": [
  {
   "cell_type": "code",
   "execution_count": null,
   "metadata": {},
   "outputs": [],
   "source": [
    "// Load the FFX libraries.\n",
    "%use @file[ffx.json]\n",
    "\n",
    "// Download a PDB file.\n",
    "val pdb = downloadPDB(\"2jof\")"
   ]
  },
  {
   "cell_type": "code",
   "execution_count": null,
   "metadata": {},
   "outputs": [],
   "source": [
    "// Run the Force Field X Energy script.\n",
    "ffxScript(arrayOf(\"Energy\", pdb))"
   ]
  }
 ],
 "metadata": {
  "kernelspec": {
   "display_name": "Kotlin",
   "language": "kotlin",
   "name": "kotlin"
  },
  "language_info": {
   "codemirror_mode": "text/x-kotlin",
   "file_extension": ".kt",
   "mimetype": "text/x-kotlin",
   "name": "kotlin",
   "pygments_lexer": "kotlin",
   "version": "1.4.0-dev-7568"
  },
  "ktnbPluginMetadata": {
   "projectDependencies": [
    "ffx-algorithms",
    "ffx-crystal",
    "ffx-experiment",
    "ffx-numerics",
    "ffx-pj",
    "ffx-potential",
    "ffx-ui",
    "ffx-utilities",
    "forcefieldx",
    "jopenmm"
   ]
  }
 },
 "nbformat": 4,
 "nbformat_minor": 4
}
