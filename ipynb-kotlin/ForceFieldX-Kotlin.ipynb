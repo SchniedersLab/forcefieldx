{
 "cells": [
  {
   "metadata": {},
   "cell_type": "code",
   "source": [
    "// Load the FFX libraries.\n",
    "%use @file[ffx.json]"
   ],
   "outputs": [],
   "execution_count": null
  },
  {
   "metadata": {},
   "cell_type": "code",
   "source": [
    "// Run the Energy script to calculate the current potential energy of ubiquitin.\n",
    "import ffx.potential.groovy.Energy\n",
    "\n",
    "val energy = Energy(\"../examples/ubiquitin.xyz\").run()\n",
    "println(\" Current Potential Energy\")\n",
    "println(energy.getForceFieldEnergy())"
   ],
   "outputs": [],
   "execution_count": null
  },
  {
   "metadata": {},
   "cell_type": "code",
   "source": [
    "// Plot the energy during a minimization of ubiquitin using Koltin DataFrame and Kandy.\n",
    "%use kandy\n",
    "%use dataframe\n",
    "import ffx.algorithms.groovy.Minimize\n",
    "\n",
    "val minimize = Minimize(\"../examples/ubiquitin.xyz\", \"-e\", \"1.0\").run()\n",
    "println(minimize.toString())\n",
    "\n",
    "val energies = minimize.getEnergyList()\n",
    "val length = energies.size\n",
    "val steps = (0 until length).toList()\n",
    "val df = dataFrameOf(\"Step\" to steps, \"Energy\" to energies)\n",
    "\n",
    "df.plot {\n",
    "    points {\n",
    "        x(steps) { axis.name = \"Step\" }\n",
    "        y(energies) { axis.name = \"Energy (kcal/mol)\" }\n",
    "    }\n",
    "    layout.title = \"Ubiquitin Minimization\"\n",
    "}\n"
   ],
   "outputs": [],
   "execution_count": null
  },
  {
   "metadata": {},
   "cell_type": "code",
   "source": "",
   "outputs": [],
   "execution_count": null
  }
 ],
 "metadata": {
  "kernelspec": {
   "display_name": "Kotlin",
   "language": "kotlin",
   "name": "kotlin"
  },
  "language_info": {
   "codemirror_mode": "text/x-kotlin",
   "file_extension": ".kt",
   "mimetype": "text/x-kotlin",
   "name": "kotlin",
   "pygments_lexer": "kotlin",
   "version": "1.4.0-dev-7568"
  },
  "ktnbPluginMetadata": {
   "projectDependencies": [
    "ffx-algorithms",
    "ffx-crystal",
    "ffx-experiment",
    "ffx-numerics",
    "ffx-pj",
    "ffx-potential",
    "ffx-ui",
    "ffx-utilities",
    "forcefieldx",
    "jopenmm"
   ]
  }
 },
 "nbformat": 4,
 "nbformat_minor": 4
}
